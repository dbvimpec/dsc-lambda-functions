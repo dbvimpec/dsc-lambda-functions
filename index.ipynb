{
  "cells": [
    {
      "cell_type": "markdown",
      "metadata": {
        "id": "kSrZ4kTVmNXA"
      },
      "source": [
        "# Lambda Functions\n",
        "\n",
        "## Introduction\n",
        "\n",
        "Lambda functions are often a convenient way to write *throw-away* functions on the fly. If you need to write a more complicated function you may still need to use the more formal `def` method, but lambda functions provide a quick and concise way to write functions.\n",
        "\n",
        "## Objectives\n",
        "\n",
        "You will be able to:\n",
        "\n",
        "* Describe the purpose of lambda functions, when they should be employed, and their limitations   \n",
        "* Create lambda functions to use as arguments of other functions   \n",
        "* Use the `.map()` or `.apply()` method to apply a function to a pandas series or DataFrame\n",
        "\n",
        "\n",
        "## Example\n",
        "\n",
        "Let's say you want to count the number of words in each yelp review."
      ]
    },
    {
      "cell_type": "code",
      "source": [
        "!git clone https://github.com/dbvimpec/dsc-lambda-functions"
      ],
      "metadata": {
        "colab": {
          "base_uri": "https://localhost:8080/"
        },
        "id": "a-ID3ktEm6st",
        "outputId": "3a6d4b2e-d231-4ecf-d043-2ac1692309e6"
      },
      "execution_count": 2,
      "outputs": [
        {
          "output_type": "stream",
          "name": "stdout",
          "text": [
            "Cloning into 'dsc-lambda-functions'...\n",
            "remote: Enumerating objects: 105, done.\u001b[K\n",
            "remote: Counting objects: 100% (48/48), done.\u001b[K\n",
            "remote: Compressing objects: 100% (33/33), done.\u001b[K\n",
            "remote: Total 105 (delta 19), reused 29 (delta 7), pack-reused 57 (from 1)\u001b[K\n",
            "Receiving objects: 100% (105/105), 1.01 MiB | 6.48 MiB/s, done.\n",
            "Resolving deltas: 100% (47/47), done.\n"
          ]
        }
      ]
    },
    {
      "cell_type": "code",
      "execution_count": 3,
      "metadata": {
        "colab": {
          "base_uri": "https://localhost:8080/",
          "height": 147
        },
        "id": "l0Jo9QEhmNXC",
        "outputId": "4db9db72-2f17-4217-98c9-e6de3317156b"
      },
      "outputs": [
        {
          "output_type": "execute_result",
          "data": {
            "text/plain": [
              "              business_id  cool        date  funny               review_id  \\\n",
              "1  pomGBqfbxcqPv14c3XH-ZQ     0  2012-11-13      0  dDl8zu1vWPdKGihJrwQbpw   \n",
              "2  jtQARsP6P-LbkyjbO1qNGg     1  2014-10-23      1  LZp4UX5zK3e-c5ZGSeo3kA   \n",
              "\n",
              "   stars                                               text  useful  \\\n",
              "1      5  I love this place! My fiance And I go here atl...       0   \n",
              "2      1  Terrible. Dry corn bread. Rib tips were all fa...       3   \n",
              "\n",
              "                  user_id  \n",
              "1  msQe1u7Z_XuqjGoqhB0J5g  \n",
              "2  msQe1u7Z_XuqjGoqhB0J5g  "
            ],
            "text/html": [
              "\n",
              "  <div id=\"df-b17b6688-9e11-4fad-a18d-b7c3d69d35d7\" class=\"colab-df-container\">\n",
              "    <div>\n",
              "<style scoped>\n",
              "    .dataframe tbody tr th:only-of-type {\n",
              "        vertical-align: middle;\n",
              "    }\n",
              "\n",
              "    .dataframe tbody tr th {\n",
              "        vertical-align: top;\n",
              "    }\n",
              "\n",
              "    .dataframe thead th {\n",
              "        text-align: right;\n",
              "    }\n",
              "</style>\n",
              "<table border=\"1\" class=\"dataframe\">\n",
              "  <thead>\n",
              "    <tr style=\"text-align: right;\">\n",
              "      <th></th>\n",
              "      <th>business_id</th>\n",
              "      <th>cool</th>\n",
              "      <th>date</th>\n",
              "      <th>funny</th>\n",
              "      <th>review_id</th>\n",
              "      <th>stars</th>\n",
              "      <th>text</th>\n",
              "      <th>useful</th>\n",
              "      <th>user_id</th>\n",
              "    </tr>\n",
              "  </thead>\n",
              "  <tbody>\n",
              "    <tr>\n",
              "      <th>1</th>\n",
              "      <td>pomGBqfbxcqPv14c3XH-ZQ</td>\n",
              "      <td>0</td>\n",
              "      <td>2012-11-13</td>\n",
              "      <td>0</td>\n",
              "      <td>dDl8zu1vWPdKGihJrwQbpw</td>\n",
              "      <td>5</td>\n",
              "      <td>I love this place! My fiance And I go here atl...</td>\n",
              "      <td>0</td>\n",
              "      <td>msQe1u7Z_XuqjGoqhB0J5g</td>\n",
              "    </tr>\n",
              "    <tr>\n",
              "      <th>2</th>\n",
              "      <td>jtQARsP6P-LbkyjbO1qNGg</td>\n",
              "      <td>1</td>\n",
              "      <td>2014-10-23</td>\n",
              "      <td>1</td>\n",
              "      <td>LZp4UX5zK3e-c5ZGSeo3kA</td>\n",
              "      <td>1</td>\n",
              "      <td>Terrible. Dry corn bread. Rib tips were all fa...</td>\n",
              "      <td>3</td>\n",
              "      <td>msQe1u7Z_XuqjGoqhB0J5g</td>\n",
              "    </tr>\n",
              "  </tbody>\n",
              "</table>\n",
              "</div>\n",
              "    <div class=\"colab-df-buttons\">\n",
              "\n",
              "  <div class=\"colab-df-container\">\n",
              "    <button class=\"colab-df-convert\" onclick=\"convertToInteractive('df-b17b6688-9e11-4fad-a18d-b7c3d69d35d7')\"\n",
              "            title=\"Convert this dataframe to an interactive table.\"\n",
              "            style=\"display:none;\">\n",
              "\n",
              "  <svg xmlns=\"http://www.w3.org/2000/svg\" height=\"24px\" viewBox=\"0 -960 960 960\">\n",
              "    <path d=\"M120-120v-720h720v720H120Zm60-500h600v-160H180v160Zm220 220h160v-160H400v160Zm0 220h160v-160H400v160ZM180-400h160v-160H180v160Zm440 0h160v-160H620v160ZM180-180h160v-160H180v160Zm440 0h160v-160H620v160Z\"/>\n",
              "  </svg>\n",
              "    </button>\n",
              "\n",
              "  <style>\n",
              "    .colab-df-container {\n",
              "      display:flex;\n",
              "      gap: 12px;\n",
              "    }\n",
              "\n",
              "    .colab-df-convert {\n",
              "      background-color: #E8F0FE;\n",
              "      border: none;\n",
              "      border-radius: 50%;\n",
              "      cursor: pointer;\n",
              "      display: none;\n",
              "      fill: #1967D2;\n",
              "      height: 32px;\n",
              "      padding: 0 0 0 0;\n",
              "      width: 32px;\n",
              "    }\n",
              "\n",
              "    .colab-df-convert:hover {\n",
              "      background-color: #E2EBFA;\n",
              "      box-shadow: 0px 1px 2px rgba(60, 64, 67, 0.3), 0px 1px 3px 1px rgba(60, 64, 67, 0.15);\n",
              "      fill: #174EA6;\n",
              "    }\n",
              "\n",
              "    .colab-df-buttons div {\n",
              "      margin-bottom: 4px;\n",
              "    }\n",
              "\n",
              "    [theme=dark] .colab-df-convert {\n",
              "      background-color: #3B4455;\n",
              "      fill: #D2E3FC;\n",
              "    }\n",
              "\n",
              "    [theme=dark] .colab-df-convert:hover {\n",
              "      background-color: #434B5C;\n",
              "      box-shadow: 0px 1px 3px 1px rgba(0, 0, 0, 0.15);\n",
              "      filter: drop-shadow(0px 1px 2px rgba(0, 0, 0, 0.3));\n",
              "      fill: #FFFFFF;\n",
              "    }\n",
              "  </style>\n",
              "\n",
              "    <script>\n",
              "      const buttonEl =\n",
              "        document.querySelector('#df-b17b6688-9e11-4fad-a18d-b7c3d69d35d7 button.colab-df-convert');\n",
              "      buttonEl.style.display =\n",
              "        google.colab.kernel.accessAllowed ? 'block' : 'none';\n",
              "\n",
              "      async function convertToInteractive(key) {\n",
              "        const element = document.querySelector('#df-b17b6688-9e11-4fad-a18d-b7c3d69d35d7');\n",
              "        const dataTable =\n",
              "          await google.colab.kernel.invokeFunction('convertToInteractive',\n",
              "                                                    [key], {});\n",
              "        if (!dataTable) return;\n",
              "\n",
              "        const docLinkHtml = 'Like what you see? Visit the ' +\n",
              "          '<a target=\"_blank\" href=https://colab.research.google.com/notebooks/data_table.ipynb>data table notebook</a>'\n",
              "          + ' to learn more about interactive tables.';\n",
              "        element.innerHTML = '';\n",
              "        dataTable['output_type'] = 'display_data';\n",
              "        await google.colab.output.renderOutput(dataTable, element);\n",
              "        const docLink = document.createElement('div');\n",
              "        docLink.innerHTML = docLinkHtml;\n",
              "        element.appendChild(docLink);\n",
              "      }\n",
              "    </script>\n",
              "  </div>\n",
              "\n",
              "\n",
              "<div id=\"df-ece1f427-daf5-41cb-9128-141bf38f8ea2\">\n",
              "  <button class=\"colab-df-quickchart\" onclick=\"quickchart('df-ece1f427-daf5-41cb-9128-141bf38f8ea2')\"\n",
              "            title=\"Suggest charts\"\n",
              "            style=\"display:none;\">\n",
              "\n",
              "<svg xmlns=\"http://www.w3.org/2000/svg\" height=\"24px\"viewBox=\"0 0 24 24\"\n",
              "     width=\"24px\">\n",
              "    <g>\n",
              "        <path d=\"M19 3H5c-1.1 0-2 .9-2 2v14c0 1.1.9 2 2 2h14c1.1 0 2-.9 2-2V5c0-1.1-.9-2-2-2zM9 17H7v-7h2v7zm4 0h-2V7h2v10zm4 0h-2v-4h2v4z\"/>\n",
              "    </g>\n",
              "</svg>\n",
              "  </button>\n",
              "\n",
              "<style>\n",
              "  .colab-df-quickchart {\n",
              "      --bg-color: #E8F0FE;\n",
              "      --fill-color: #1967D2;\n",
              "      --hover-bg-color: #E2EBFA;\n",
              "      --hover-fill-color: #174EA6;\n",
              "      --disabled-fill-color: #AAA;\n",
              "      --disabled-bg-color: #DDD;\n",
              "  }\n",
              "\n",
              "  [theme=dark] .colab-df-quickchart {\n",
              "      --bg-color: #3B4455;\n",
              "      --fill-color: #D2E3FC;\n",
              "      --hover-bg-color: #434B5C;\n",
              "      --hover-fill-color: #FFFFFF;\n",
              "      --disabled-bg-color: #3B4455;\n",
              "      --disabled-fill-color: #666;\n",
              "  }\n",
              "\n",
              "  .colab-df-quickchart {\n",
              "    background-color: var(--bg-color);\n",
              "    border: none;\n",
              "    border-radius: 50%;\n",
              "    cursor: pointer;\n",
              "    display: none;\n",
              "    fill: var(--fill-color);\n",
              "    height: 32px;\n",
              "    padding: 0;\n",
              "    width: 32px;\n",
              "  }\n",
              "\n",
              "  .colab-df-quickchart:hover {\n",
              "    background-color: var(--hover-bg-color);\n",
              "    box-shadow: 0 1px 2px rgba(60, 64, 67, 0.3), 0 1px 3px 1px rgba(60, 64, 67, 0.15);\n",
              "    fill: var(--button-hover-fill-color);\n",
              "  }\n",
              "\n",
              "  .colab-df-quickchart-complete:disabled,\n",
              "  .colab-df-quickchart-complete:disabled:hover {\n",
              "    background-color: var(--disabled-bg-color);\n",
              "    fill: var(--disabled-fill-color);\n",
              "    box-shadow: none;\n",
              "  }\n",
              "\n",
              "  .colab-df-spinner {\n",
              "    border: 2px solid var(--fill-color);\n",
              "    border-color: transparent;\n",
              "    border-bottom-color: var(--fill-color);\n",
              "    animation:\n",
              "      spin 1s steps(1) infinite;\n",
              "  }\n",
              "\n",
              "  @keyframes spin {\n",
              "    0% {\n",
              "      border-color: transparent;\n",
              "      border-bottom-color: var(--fill-color);\n",
              "      border-left-color: var(--fill-color);\n",
              "    }\n",
              "    20% {\n",
              "      border-color: transparent;\n",
              "      border-left-color: var(--fill-color);\n",
              "      border-top-color: var(--fill-color);\n",
              "    }\n",
              "    30% {\n",
              "      border-color: transparent;\n",
              "      border-left-color: var(--fill-color);\n",
              "      border-top-color: var(--fill-color);\n",
              "      border-right-color: var(--fill-color);\n",
              "    }\n",
              "    40% {\n",
              "      border-color: transparent;\n",
              "      border-right-color: var(--fill-color);\n",
              "      border-top-color: var(--fill-color);\n",
              "    }\n",
              "    60% {\n",
              "      border-color: transparent;\n",
              "      border-right-color: var(--fill-color);\n",
              "    }\n",
              "    80% {\n",
              "      border-color: transparent;\n",
              "      border-right-color: var(--fill-color);\n",
              "      border-bottom-color: var(--fill-color);\n",
              "    }\n",
              "    90% {\n",
              "      border-color: transparent;\n",
              "      border-bottom-color: var(--fill-color);\n",
              "    }\n",
              "  }\n",
              "</style>\n",
              "\n",
              "  <script>\n",
              "    async function quickchart(key) {\n",
              "      const quickchartButtonEl =\n",
              "        document.querySelector('#' + key + ' button');\n",
              "      quickchartButtonEl.disabled = true;  // To prevent multiple clicks.\n",
              "      quickchartButtonEl.classList.add('colab-df-spinner');\n",
              "      try {\n",
              "        const charts = await google.colab.kernel.invokeFunction(\n",
              "            'suggestCharts', [key], {});\n",
              "      } catch (error) {\n",
              "        console.error('Error during call to suggestCharts:', error);\n",
              "      }\n",
              "      quickchartButtonEl.classList.remove('colab-df-spinner');\n",
              "      quickchartButtonEl.classList.add('colab-df-quickchart-complete');\n",
              "    }\n",
              "    (() => {\n",
              "      let quickchartButtonEl =\n",
              "        document.querySelector('#df-ece1f427-daf5-41cb-9128-141bf38f8ea2 button');\n",
              "      quickchartButtonEl.style.display =\n",
              "        google.colab.kernel.accessAllowed ? 'block' : 'none';\n",
              "    })();\n",
              "  </script>\n",
              "</div>\n",
              "\n",
              "    </div>\n",
              "  </div>\n"
            ],
            "application/vnd.google.colaboratory.intrinsic+json": {
              "type": "dataframe",
              "variable_name": "df",
              "summary": "{\n  \"name\": \"df\",\n  \"rows\": 2610,\n  \"fields\": [\n    {\n      \"column\": \"business_id\",\n      \"properties\": {\n        \"dtype\": \"string\",\n        \"num_unique_values\": 2192,\n        \"samples\": [\n          \"8-Ht3meyFzpGqJ0j2x-8Wg\",\n          \"5REYrZfsX3m4E3FTwovp5Q\",\n          \"okQw1wEERhes49YCuBR9gA\"\n        ],\n        \"semantic_type\": \"\",\n        \"description\": \"\"\n      }\n    },\n    {\n      \"column\": \"cool\",\n      \"properties\": {\n        \"dtype\": \"number\",\n        \"std\": 0,\n        \"min\": 0,\n        \"max\": 14,\n        \"num_unique_values\": 10,\n        \"samples\": [\n          5,\n          1,\n          14\n        ],\n        \"semantic_type\": \"\",\n        \"description\": \"\"\n      }\n    },\n    {\n      \"column\": \"date\",\n      \"properties\": {\n        \"dtype\": \"object\",\n        \"num_unique_values\": 1330,\n        \"samples\": [\n          \"2013-12-15\",\n          \"2016-07-12\",\n          \"2013-08-23\"\n        ],\n        \"semantic_type\": \"\",\n        \"description\": \"\"\n      }\n    },\n    {\n      \"column\": \"funny\",\n      \"properties\": {\n        \"dtype\": \"number\",\n        \"std\": 0,\n        \"min\": 0,\n        \"max\": 16,\n        \"num_unique_values\": 11,\n        \"samples\": [\n          5,\n          0,\n          9\n        ],\n        \"semantic_type\": \"\",\n        \"description\": \"\"\n      }\n    },\n    {\n      \"column\": \"review_id\",\n      \"properties\": {\n        \"dtype\": \"string\",\n        \"num_unique_values\": 2277,\n        \"samples\": [\n          \"GrxZ9bxVwJzevLakWpU-wA\",\n          \"MVoMBmZXNzZZC8ShQW1qbw\",\n          \"mlhp9_Qpr_KKEcRB-uohrQ\"\n        ],\n        \"semantic_type\": \"\",\n        \"description\": \"\"\n      }\n    },\n    {\n      \"column\": \"stars\",\n      \"properties\": {\n        \"dtype\": \"number\",\n        \"std\": 1,\n        \"min\": 1,\n        \"max\": 5,\n        \"num_unique_values\": 5,\n        \"samples\": [\n          1,\n          3,\n          4\n        ],\n        \"semantic_type\": \"\",\n        \"description\": \"\"\n      }\n    },\n    {\n      \"column\": \"text\",\n      \"properties\": {\n        \"dtype\": \"string\",\n        \"num_unique_values\": 2276,\n        \"samples\": [\n          \"Randy is an excellent technician, went above and beyond my expectations. Installed my air conditioner and furnace very professionally. They even came and replaced my air filters for me! Thank you very much highly would recommend to anyone looking for any air conditioning or heating needs!!\",\n          \"Would highly suggest to try this place awesome sandwiches\",\n          \"i've been going for over a year. great service from a nail salon. it's not a spa so dont expect luxury. but for what it is it's great. the girls are friendly. the services are done well.\"\n        ],\n        \"semantic_type\": \"\",\n        \"description\": \"\"\n      }\n    },\n    {\n      \"column\": \"useful\",\n      \"properties\": {\n        \"dtype\": \"number\",\n        \"std\": 1,\n        \"min\": 0,\n        \"max\": 24,\n        \"num_unique_values\": 22,\n        \"samples\": [\n          0,\n          24,\n          13\n        ],\n        \"semantic_type\": \"\",\n        \"description\": \"\"\n      }\n    },\n    {\n      \"column\": \"user_id\",\n      \"properties\": {\n        \"dtype\": \"category\",\n        \"num_unique_values\": 1010,\n        \"samples\": [\n          \"BmhGMBuTah-Cireo9xl_ZQ\",\n          \"Te1y5afUMwaTe62ZiB8Igg\",\n          \"sm532xNx-vSRO9CMcfqVZw\"\n        ],\n        \"semantic_type\": \"\",\n        \"description\": \"\"\n      }\n    }\n  ]\n}"
            }
          },
          "metadata": {},
          "execution_count": 3
        }
      ],
      "source": [
        "import pandas as pd\n",
        "df = pd.read_csv('dsc-lambda-functions/Yelp_Reviews.csv', index_col=0)\n",
        "df.head(2)"
      ]
    },
    {
      "cell_type": "code",
      "execution_count": 4,
      "metadata": {
        "colab": {
          "base_uri": "https://localhost:8080/",
          "height": 241
        },
        "id": "Y-rtOUPXmNXD",
        "outputId": "2f9c0f83-9a69-4f86-80e6-0fa0e2f58e45"
      },
      "outputs": [
        {
          "output_type": "execute_result",
          "data": {
            "text/plain": [
              "1     58\n",
              "2     30\n",
              "4     30\n",
              "5     82\n",
              "10    32\n",
              "Name: text, dtype: int64"
            ],
            "text/html": [
              "<div>\n",
              "<style scoped>\n",
              "    .dataframe tbody tr th:only-of-type {\n",
              "        vertical-align: middle;\n",
              "    }\n",
              "\n",
              "    .dataframe tbody tr th {\n",
              "        vertical-align: top;\n",
              "    }\n",
              "\n",
              "    .dataframe thead th {\n",
              "        text-align: right;\n",
              "    }\n",
              "</style>\n",
              "<table border=\"1\" class=\"dataframe\">\n",
              "  <thead>\n",
              "    <tr style=\"text-align: right;\">\n",
              "      <th></th>\n",
              "      <th>text</th>\n",
              "    </tr>\n",
              "  </thead>\n",
              "  <tbody>\n",
              "    <tr>\n",
              "      <th>1</th>\n",
              "      <td>58</td>\n",
              "    </tr>\n",
              "    <tr>\n",
              "      <th>2</th>\n",
              "      <td>30</td>\n",
              "    </tr>\n",
              "    <tr>\n",
              "      <th>4</th>\n",
              "      <td>30</td>\n",
              "    </tr>\n",
              "    <tr>\n",
              "      <th>5</th>\n",
              "      <td>82</td>\n",
              "    </tr>\n",
              "    <tr>\n",
              "      <th>10</th>\n",
              "      <td>32</td>\n",
              "    </tr>\n",
              "  </tbody>\n",
              "</table>\n",
              "</div><br><label><b>dtype:</b> int64</label>"
            ]
          },
          "metadata": {},
          "execution_count": 4
        }
      ],
      "source": [
        "df['text'].map(lambda x: len(x.split())).head()"
      ]
    },
    {
      "cell_type": "markdown",
      "metadata": {
        "id": "-MpF5WghmNXE"
      },
      "source": [
        "Similar to defining functions in general or naming the iterable in `for` loops, the variable that you use after calling the `lambda` keyword does not matter:"
      ]
    },
    {
      "cell_type": "code",
      "execution_count": 5,
      "metadata": {
        "colab": {
          "base_uri": "https://localhost:8080/",
          "height": 241
        },
        "id": "RKAazyH5mNXE",
        "outputId": "24b86780-1988-4877-b6d5-f6f69e3bf9a2"
      },
      "outputs": [
        {
          "output_type": "execute_result",
          "data": {
            "text/plain": [
              "1     58\n",
              "2     30\n",
              "4     30\n",
              "5     82\n",
              "10    32\n",
              "Name: text, dtype: int64"
            ],
            "text/html": [
              "<div>\n",
              "<style scoped>\n",
              "    .dataframe tbody tr th:only-of-type {\n",
              "        vertical-align: middle;\n",
              "    }\n",
              "\n",
              "    .dataframe tbody tr th {\n",
              "        vertical-align: top;\n",
              "    }\n",
              "\n",
              "    .dataframe thead th {\n",
              "        text-align: right;\n",
              "    }\n",
              "</style>\n",
              "<table border=\"1\" class=\"dataframe\">\n",
              "  <thead>\n",
              "    <tr style=\"text-align: right;\">\n",
              "      <th></th>\n",
              "      <th>text</th>\n",
              "    </tr>\n",
              "  </thead>\n",
              "  <tbody>\n",
              "    <tr>\n",
              "      <th>1</th>\n",
              "      <td>58</td>\n",
              "    </tr>\n",
              "    <tr>\n",
              "      <th>2</th>\n",
              "      <td>30</td>\n",
              "    </tr>\n",
              "    <tr>\n",
              "      <th>4</th>\n",
              "      <td>30</td>\n",
              "    </tr>\n",
              "    <tr>\n",
              "      <th>5</th>\n",
              "      <td>82</td>\n",
              "    </tr>\n",
              "    <tr>\n",
              "      <th>10</th>\n",
              "      <td>32</td>\n",
              "    </tr>\n",
              "  </tbody>\n",
              "</table>\n",
              "</div><br><label><b>dtype:</b> int64</label>"
            ]
          },
          "metadata": {},
          "execution_count": 5
        }
      ],
      "source": [
        "df['text'].map(lambda review_text: len(review_text.split())).head()"
      ]
    },
    {
      "cell_type": "markdown",
      "metadata": {
        "id": "m8R8yd2nmNXE"
      },
      "source": [
        "## Lambda functions with conditionals\n",
        "Lambda functions can also accept some conditionals if chained in a list comprehension"
      ]
    },
    {
      "cell_type": "code",
      "execution_count": 6,
      "metadata": {
        "colab": {
          "base_uri": "https://localhost:8080/",
          "height": 241
        },
        "id": "pUdC-hJBmNXF",
        "outputId": "09eab5da-470e-4f26-9d82-dede1a1c3a23"
      },
      "outputs": [
        {
          "output_type": "execute_result",
          "data": {
            "text/plain": [
              "1     Good\n",
              "2      Bad\n",
              "4     Good\n",
              "5      Bad\n",
              "10     Bad\n",
              "Name: text, dtype: object"
            ],
            "text/html": [
              "<div>\n",
              "<style scoped>\n",
              "    .dataframe tbody tr th:only-of-type {\n",
              "        vertical-align: middle;\n",
              "    }\n",
              "\n",
              "    .dataframe tbody tr th {\n",
              "        vertical-align: top;\n",
              "    }\n",
              "\n",
              "    .dataframe thead th {\n",
              "        text-align: right;\n",
              "    }\n",
              "</style>\n",
              "<table border=\"1\" class=\"dataframe\">\n",
              "  <thead>\n",
              "    <tr style=\"text-align: right;\">\n",
              "      <th></th>\n",
              "      <th>text</th>\n",
              "    </tr>\n",
              "  </thead>\n",
              "  <tbody>\n",
              "    <tr>\n",
              "      <th>1</th>\n",
              "      <td>Good</td>\n",
              "    </tr>\n",
              "    <tr>\n",
              "      <th>2</th>\n",
              "      <td>Bad</td>\n",
              "    </tr>\n",
              "    <tr>\n",
              "      <th>4</th>\n",
              "      <td>Good</td>\n",
              "    </tr>\n",
              "    <tr>\n",
              "      <th>5</th>\n",
              "      <td>Bad</td>\n",
              "    </tr>\n",
              "    <tr>\n",
              "      <th>10</th>\n",
              "      <td>Bad</td>\n",
              "    </tr>\n",
              "  </tbody>\n",
              "</table>\n",
              "</div><br><label><b>dtype:</b> object</label>"
            ]
          },
          "metadata": {},
          "execution_count": 6
        }
      ],
      "source": [
        "df['text'].map(lambda x: 'Good' if any([word in x.lower() for word in ['awesome', 'love', 'good', 'great']]) else 'Bad').head()"
      ]
    },
    {
      "cell_type": "markdown",
      "metadata": {
        "id": "EUPwP8MemNXF"
      },
      "source": [
        "## Note\n",
        "The above is terribly poor style and does in no way represent [PEP 8](https://www.python.org/dev/peps/pep-0008/) or Pythonic style. (For example, no line should be over 72 characters according to PEP 8; the previous line was 127 characters.) That said, it is an interesting demonstration of chaining a conditional, any method, and a list comprehension all inside a lambda function!   \n",
        "Shew!"
      ]
    },
    {
      "cell_type": "markdown",
      "metadata": {
        "id": "RsdC2UdhmNXF"
      },
      "source": [
        "## Returning to a more manageable example...\n",
        "\n",
        "Perhaps we want to naively select the year from the date string rather than convert it to a datetime object."
      ]
    },
    {
      "cell_type": "code",
      "execution_count": 9,
      "metadata": {
        "colab": {
          "base_uri": "https://localhost:8080/",
          "height": 241
        },
        "id": "YYIRMQacmNXF",
        "outputId": "a1154430-fba4-482c-a7c2-c70b283c54fe"
      },
      "outputs": [
        {
          "output_type": "execute_result",
          "data": {
            "text/plain": [
              "1     2012\n",
              "2     2014\n",
              "4     2014\n",
              "5     2011\n",
              "10    2016\n",
              "Name: date, dtype: object"
            ],
            "text/html": [
              "<div>\n",
              "<style scoped>\n",
              "    .dataframe tbody tr th:only-of-type {\n",
              "        vertical-align: middle;\n",
              "    }\n",
              "\n",
              "    .dataframe tbody tr th {\n",
              "        vertical-align: top;\n",
              "    }\n",
              "\n",
              "    .dataframe thead th {\n",
              "        text-align: right;\n",
              "    }\n",
              "</style>\n",
              "<table border=\"1\" class=\"dataframe\">\n",
              "  <thead>\n",
              "    <tr style=\"text-align: right;\">\n",
              "      <th></th>\n",
              "      <th>date</th>\n",
              "    </tr>\n",
              "  </thead>\n",
              "  <tbody>\n",
              "    <tr>\n",
              "      <th>1</th>\n",
              "      <td>2012</td>\n",
              "    </tr>\n",
              "    <tr>\n",
              "      <th>2</th>\n",
              "      <td>2014</td>\n",
              "    </tr>\n",
              "    <tr>\n",
              "      <th>4</th>\n",
              "      <td>2014</td>\n",
              "    </tr>\n",
              "    <tr>\n",
              "      <th>5</th>\n",
              "      <td>2011</td>\n",
              "    </tr>\n",
              "    <tr>\n",
              "      <th>10</th>\n",
              "      <td>2016</td>\n",
              "    </tr>\n",
              "  </tbody>\n",
              "</table>\n",
              "</div><br><label><b>dtype:</b> object</label>"
            ]
          },
          "metadata": {},
          "execution_count": 9
        }
      ],
      "source": [
        "df.date.map(lambda x: x[:4]).head()"
      ]
    },
    {
      "cell_type": "markdown",
      "metadata": {
        "id": "yOmEr-R1mNXG"
      },
      "source": [
        "## Lambda functions are also useful within the `sort()` function\n"
      ]
    },
    {
      "cell_type": "code",
      "execution_count": 10,
      "metadata": {
        "colab": {
          "base_uri": "https://localhost:8080/"
        },
        "id": "ryVLKj_TmNXG",
        "outputId": "e795f418-b264-4353-f75d-38b1f63daa81"
      },
      "outputs": [
        {
          "output_type": "execute_result",
          "data": {
            "text/plain": [
              "['Audrey Mayer',\n",
              " 'Bethany Martin',\n",
              " 'Carter Wong',\n",
              " 'Eddie Reeves',\n",
              " 'Elaine Barrera',\n",
              " 'Jaiden Liu',\n",
              " 'Kameron Davidson',\n",
              " 'Marley Beard',\n",
              " 'Miriam Marks',\n",
              " 'Sidney Baird',\n",
              " 'Stephen Rios',\n",
              " 'Teagan Bennett']"
            ]
          },
          "metadata": {},
          "execution_count": 10
        }
      ],
      "source": [
        "# Without a key\n",
        "names = ['Miriam Marks','Sidney Baird','Elaine Barrera','Eddie Reeves','Marley Beard',\n",
        "         'Jaiden Liu','Bethany Martin','Stephen Rios','Audrey Mayer','Kameron Davidson',\n",
        "         'Carter Wong','Teagan Bennett']\n",
        "sorted(names)"
      ]
    },
    {
      "cell_type": "code",
      "execution_count": 11,
      "metadata": {
        "colab": {
          "base_uri": "https://localhost:8080/"
        },
        "id": "TezJ-O93mNXG",
        "outputId": "3d8a10f8-cb1f-419d-cc75-d402c1791bf0"
      },
      "outputs": [
        {
          "output_type": "execute_result",
          "data": {
            "text/plain": [
              "['Sidney Baird',\n",
              " 'Elaine Barrera',\n",
              " 'Marley Beard',\n",
              " 'Teagan Bennett',\n",
              " 'Kameron Davidson',\n",
              " 'Jaiden Liu',\n",
              " 'Miriam Marks',\n",
              " 'Bethany Martin',\n",
              " 'Audrey Mayer',\n",
              " 'Eddie Reeves',\n",
              " 'Stephen Rios']"
            ]
          },
          "metadata": {},
          "execution_count": 11
        }
      ],
      "source": [
        "# Sorting by last name\n",
        "names = ['Miriam Marks','Sidney Baird','Elaine Barrera','Eddie Reeves','Marley Beard',\n",
        "         'Jaiden Liu','Bethany Martin','Stephen Rios','Audrey Mayer','Kameron Davidson',\n",
        "'Teagan Bennett']\n",
        "sorted(names, key=lambda x: x.split()[1])\n"
      ]
    },
    {
      "cell_type": "markdown",
      "metadata": {
        "id": "9NWTbVojmNXG"
      },
      "source": [
        "## A general approach to writing [Data Transformation] Functions\n",
        "\n",
        "Above, we've covered a lot of the syntax of lambda functions, but the thought process for writing these complex transformations was not transparent. Let's take a minute to discuss some approaches to tackling these problems.\n",
        "\n",
        "## Experiment and solve for individual cases first\n",
        "\n",
        "Before trying to write a function to apply to an entire series, it's typically easier to attempt to solve for an individual case. For example, if we're trying to determine the number of words in a review, we can try and do this for a single review first."
      ]
    },
    {
      "cell_type": "markdown",
      "metadata": {
        "id": "1hbDYxXrmNXG"
      },
      "source": [
        "First, choose an example field that you'll be applying the function to."
      ]
    },
    {
      "cell_type": "code",
      "execution_count": 12,
      "metadata": {
        "colab": {
          "base_uri": "https://localhost:8080/",
          "height": 70
        },
        "id": "w2ICIIctmNXG",
        "outputId": "4180b68c-11ba-477a-8793-0f6f4e1e5190"
      },
      "outputs": [
        {
          "output_type": "execute_result",
          "data": {
            "text/plain": [
              "'I love this place! My fiance And I go here atleast once a week. The portions are huge! Food is amazing. I love their carne asada. They have great lunch specials... Leticia is super nice and cares about what you think of her restaurant. You have to try their cheese enchiladas too the sauce is different And amazing!!!'"
            ],
            "application/vnd.google.colaboratory.intrinsic+json": {
              "type": "string"
            }
          },
          "metadata": {},
          "execution_count": 12
        }
      ],
      "source": [
        "example = df['text'].iloc[0]\n",
        "example"
      ]
    },
    {
      "cell_type": "markdown",
      "metadata": {
        "id": "JsN0lFsimNXH"
      },
      "source": [
        "Then start writing the function for that example. For example, if we need to count the number of words, it's natural to first divide the review into words. A natural way to do this is with the str.split() method."
      ]
    },
    {
      "cell_type": "code",
      "execution_count": 13,
      "metadata": {
        "colab": {
          "base_uri": "https://localhost:8080/"
        },
        "id": "a6BSG3cNmNXH",
        "outputId": "cfbb81ce-59e5-4fec-ef31-982dd70d9c61"
      },
      "outputs": [
        {
          "output_type": "execute_result",
          "data": {
            "text/plain": [
              "['I',\n",
              " 'love',\n",
              " 'this',\n",
              " 'place!',\n",
              " 'My',\n",
              " 'fiance',\n",
              " 'And',\n",
              " 'I',\n",
              " 'go',\n",
              " 'here',\n",
              " 'atleast',\n",
              " 'once',\n",
              " 'a',\n",
              " 'week.',\n",
              " 'The',\n",
              " 'portions',\n",
              " 'are',\n",
              " 'huge!',\n",
              " 'Food',\n",
              " 'is',\n",
              " 'amazing.',\n",
              " 'I',\n",
              " 'love',\n",
              " 'their',\n",
              " 'carne',\n",
              " 'asada.',\n",
              " 'They',\n",
              " 'have',\n",
              " 'great',\n",
              " 'lunch',\n",
              " 'specials...',\n",
              " 'Leticia',\n",
              " 'is',\n",
              " 'super',\n",
              " 'nice',\n",
              " 'and',\n",
              " 'cares',\n",
              " 'about',\n",
              " 'what',\n",
              " 'you',\n",
              " 'think',\n",
              " 'of',\n",
              " 'her',\n",
              " 'restaurant.',\n",
              " 'You',\n",
              " 'have',\n",
              " 'to',\n",
              " 'try',\n",
              " 'their',\n",
              " 'cheese',\n",
              " 'enchiladas',\n",
              " 'too',\n",
              " 'the',\n",
              " 'sauce',\n",
              " 'is',\n",
              " 'different',\n",
              " 'And',\n",
              " 'amazing!!!']"
            ]
          },
          "metadata": {},
          "execution_count": 13
        }
      ],
      "source": [
        "example.split()"
      ]
    },
    {
      "cell_type": "markdown",
      "metadata": {
        "id": "Fc-7ZSG1mNXH"
      },
      "source": [
        "Then we just need to count this!"
      ]
    },
    {
      "cell_type": "code",
      "execution_count": 14,
      "metadata": {
        "colab": {
          "base_uri": "https://localhost:8080/"
        },
        "id": "qLp3YsfXmNXH",
        "outputId": "5f7f4276-debd-46e2-ac71-b42169e62679"
      },
      "outputs": [
        {
          "output_type": "execute_result",
          "data": {
            "text/plain": [
              "58"
            ]
          },
          "metadata": {},
          "execution_count": 14
        }
      ],
      "source": [
        "len(example.split())"
      ]
    },
    {
      "cell_type": "markdown",
      "metadata": {
        "id": "AymzmI4GmNXI"
      },
      "source": [
        "## Then return to solving for all!"
      ]
    },
    {
      "cell_type": "code",
      "execution_count": 15,
      "metadata": {
        "colab": {
          "base_uri": "https://localhost:8080/",
          "height": 241
        },
        "id": "0_EGc6tVmNXI",
        "outputId": "4e5735fa-069c-4969-fbce-33650b8accea"
      },
      "outputs": [
        {
          "output_type": "execute_result",
          "data": {
            "text/plain": [
              "1     58\n",
              "2     30\n",
              "4     30\n",
              "5     82\n",
              "10    32\n",
              "Name: text, dtype: int64"
            ],
            "text/html": [
              "<div>\n",
              "<style scoped>\n",
              "    .dataframe tbody tr th:only-of-type {\n",
              "        vertical-align: middle;\n",
              "    }\n",
              "\n",
              "    .dataframe tbody tr th {\n",
              "        vertical-align: top;\n",
              "    }\n",
              "\n",
              "    .dataframe thead th {\n",
              "        text-align: right;\n",
              "    }\n",
              "</style>\n",
              "<table border=\"1\" class=\"dataframe\">\n",
              "  <thead>\n",
              "    <tr style=\"text-align: right;\">\n",
              "      <th></th>\n",
              "      <th>text</th>\n",
              "    </tr>\n",
              "  </thead>\n",
              "  <tbody>\n",
              "    <tr>\n",
              "      <th>1</th>\n",
              "      <td>58</td>\n",
              "    </tr>\n",
              "    <tr>\n",
              "      <th>2</th>\n",
              "      <td>30</td>\n",
              "    </tr>\n",
              "    <tr>\n",
              "      <th>4</th>\n",
              "      <td>30</td>\n",
              "    </tr>\n",
              "    <tr>\n",
              "      <th>5</th>\n",
              "      <td>82</td>\n",
              "    </tr>\n",
              "    <tr>\n",
              "      <th>10</th>\n",
              "      <td>32</td>\n",
              "    </tr>\n",
              "  </tbody>\n",
              "</table>\n",
              "</div><br><label><b>dtype:</b> int64</label>"
            ]
          },
          "metadata": {},
          "execution_count": 15
        }
      ],
      "source": [
        "df['text'].map(lambda x: len(x.split())).head()"
      ]
    },
    {
      "cell_type": "markdown",
      "metadata": {
        "id": "cuB-zY9WmNXI"
      },
      "source": [
        "## Watch for edge cases and exceptions\n",
        "\n",
        "When generalizing from a single case to all cases, it's important to consider exceptions or edge cases. For example, in the above example, you might wonder whether extra spaces or punctuations effects the output."
      ]
    },
    {
      "cell_type": "code",
      "execution_count": 16,
      "metadata": {
        "colab": {
          "base_uri": "https://localhost:8080/"
        },
        "id": "ACFmbcRUmNXI",
        "outputId": "a31f309b-25b6-47fd-8378-70614528565d"
      },
      "outputs": [
        {
          "output_type": "execute_result",
          "data": {
            "text/plain": [
              "['this', 'is', 'a', 'weird', 'test!!!Can', 'we', 'break', 'it??']"
            ]
          },
          "metadata": {},
          "execution_count": 16
        }
      ],
      "source": [
        "'this is a      weird test!!!Can we break it??'.split()"
      ]
    },
    {
      "cell_type": "markdown",
      "metadata": {
        "id": "WC823ikOmNXI"
      },
      "source": [
        "As you can see, extra spaces won't break our function, but missing a space after punctuation will. Perhaps this is a rare enough event that we don't worry further, but exceptions are always something to consider when writing functions.\n",
        "\n",
        "## Other Common Patterns: the % and // operators\n",
        "\n",
        "Another common pattern that you may find very useful is the modulus or remainder operator (%), as well as the floor division operator (//). These are both very useful when you want behavior such as 'every fourth element' or 'groups of three consecutive elements'. Let's investigate a couple of examples."
      ]
    },
    {
      "cell_type": "markdown",
      "metadata": {
        "id": "XpbCQCsbmNXI"
      },
      "source": [
        "### The modulus operator (%)\n",
        "Useful for queries such as 'every other element' or 'every fifth element' etc."
      ]
    },
    {
      "cell_type": "code",
      "execution_count": 17,
      "metadata": {
        "colab": {
          "base_uri": "https://localhost:8080/"
        },
        "id": "pi11wQ21mNXI",
        "outputId": "9bb1466a-0e79-4470-962b-4e90d359499f"
      },
      "outputs": [
        {
          "output_type": "execute_result",
          "data": {
            "text/plain": [
              "1"
            ]
          },
          "metadata": {},
          "execution_count": 17
        }
      ],
      "source": [
        "# Try a single example\n",
        "3%2"
      ]
    },
    {
      "cell_type": "code",
      "execution_count": 18,
      "metadata": {
        "colab": {
          "base_uri": "https://localhost:8080/"
        },
        "id": "bhpPpygmmNXJ",
        "outputId": "2527c5a8-f584-43f8-b556-e8abf3419eef"
      },
      "outputs": [
        {
          "output_type": "execute_result",
          "data": {
            "text/plain": [
              "0"
            ]
          },
          "metadata": {},
          "execution_count": 18
        }
      ],
      "source": [
        "# and another\n",
        "2%2"
      ]
    },
    {
      "cell_type": "code",
      "execution_count": 19,
      "metadata": {
        "colab": {
          "base_uri": "https://localhost:8080/"
        },
        "id": "puaEkSqKmNXJ",
        "outputId": "15a92e7b-6bd0-4931-a45c-8f78c1a637a1"
      },
      "outputs": [
        {
          "output_type": "stream",
          "name": "stdout",
          "text": [
            "i: 0, i%2: 0\n",
            "i: 1, i%2: 1\n",
            "i: 2, i%2: 0\n",
            "i: 3, i%2: 1\n",
            "i: 4, i%2: 0\n",
            "i: 5, i%2: 1\n",
            "i: 6, i%2: 0\n",
            "i: 7, i%2: 1\n",
            "i: 8, i%2: 0\n",
            "i: 9, i%2: 1\n"
          ]
        }
      ],
      "source": [
        "# Generalize the pattern: every other\n",
        "for i in range(10):\n",
        "    print(f'i: {i}, i%2: {i%2}')"
      ]
    },
    {
      "cell_type": "markdown",
      "metadata": {
        "id": "Nm0TL7NkmNXJ"
      },
      "source": [
        "### The floor division (//) operator\n",
        "Useful for creating groups of a set size. For example: groups of ten, groups of seven, etc."
      ]
    },
    {
      "cell_type": "code",
      "execution_count": 20,
      "metadata": {
        "colab": {
          "base_uri": "https://localhost:8080/"
        },
        "id": "GuuFu9PfmNXJ",
        "outputId": "91a295d0-9191-49be-d8aa-5d232540f26a"
      },
      "outputs": [
        {
          "output_type": "execute_result",
          "data": {
            "text/plain": [
              "3"
            ]
          },
          "metadata": {},
          "execution_count": 20
        }
      ],
      "source": [
        "# Try a single example\n",
        "9//3"
      ]
    },
    {
      "cell_type": "code",
      "execution_count": 21,
      "metadata": {
        "colab": {
          "base_uri": "https://localhost:8080/"
        },
        "id": "HQ5mS7_amNXJ",
        "outputId": "883805ac-31e4-4a0c-86ee-02a0d98beaa7"
      },
      "outputs": [
        {
          "output_type": "execute_result",
          "data": {
            "text/plain": [
              "1"
            ]
          },
          "metadata": {},
          "execution_count": 21
        }
      ],
      "source": [
        "# and another\n",
        "5//3"
      ]
    },
    {
      "cell_type": "code",
      "execution_count": 22,
      "metadata": {
        "colab": {
          "base_uri": "https://localhost:8080/"
        },
        "id": "Oy7yUqVpmNXJ",
        "outputId": "68f75c90-c56b-404d-d79a-92a73749c3d2"
      },
      "outputs": [
        {
          "output_type": "stream",
          "name": "stdout",
          "text": [
            "i: 0, i//7: 0\n",
            "i: 1, i//7: 0\n",
            "i: 2, i//7: 0\n",
            "i: 3, i//7: 0\n",
            "i: 4, i//7: 0\n",
            "i: 5, i//7: 0\n",
            "i: 6, i//7: 0\n",
            "i: 7, i//7: 1\n",
            "i: 8, i//7: 1\n",
            "i: 9, i//7: 1\n",
            "i: 10, i//7: 1\n",
            "i: 11, i//7: 1\n",
            "i: 12, i//7: 1\n",
            "i: 13, i//7: 1\n",
            "i: 14, i//7: 2\n",
            "i: 15, i//7: 2\n",
            "i: 16, i//7: 2\n",
            "i: 17, i//7: 2\n",
            "i: 18, i//7: 2\n",
            "i: 19, i//7: 2\n",
            "i: 20, i//7: 2\n"
          ]
        }
      ],
      "source": [
        "# Creating groups of 7\n",
        "for i in range(21):\n",
        "    print(f'i: {i}, i//7: {i//7}')"
      ]
    },
    {
      "cell_type": "markdown",
      "metadata": {
        "id": "BeeOct5UmNXK"
      },
      "source": [
        "### Combining % and //\n",
        "\n",
        "Combining the two can be very useful, such as when creating subplots!\n",
        "Below we iterate through 12 elements arranging them into 3 rows and 4 columns."
      ]
    },
    {
      "cell_type": "code",
      "execution_count": 23,
      "metadata": {
        "colab": {
          "base_uri": "https://localhost:8080/"
        },
        "id": "XpNedSoamNXK",
        "outputId": "d9c78045-2348-4568-f93a-3ab1929263f4"
      },
      "outputs": [
        {
          "output_type": "stream",
          "name": "stdout",
          "text": [
            "i: 0, Row: 0 Column: 0\n",
            "i: 1, Row: 0 Column: 1\n",
            "i: 2, Row: 0 Column: 2\n",
            "i: 3, Row: 0 Column: 3\n",
            "i: 4, Row: 1 Column: 0\n",
            "i: 5, Row: 1 Column: 1\n",
            "i: 6, Row: 1 Column: 2\n",
            "i: 7, Row: 1 Column: 3\n",
            "i: 8, Row: 2 Column: 0\n",
            "i: 9, Row: 2 Column: 1\n",
            "i: 10, Row: 2 Column: 2\n",
            "i: 11, Row: 2 Column: 3\n"
          ]
        }
      ],
      "source": [
        "for i in range(12):\n",
        "    print(f'i: {i}, Row: {i//4} Column: {i%4}')"
      ]
    },
    {
      "cell_type": "code",
      "execution_count": 24,
      "metadata": {
        "id": "BUo0PbMNmNXK"
      },
      "outputs": [],
      "source": [
        "import numpy as np\n",
        "import matplotlib.pyplot as plt\n",
        "%matplotlib inline"
      ]
    },
    {
      "cell_type": "code",
      "execution_count": 26,
      "metadata": {
        "colab": {
          "base_uri": "https://localhost:8080/",
          "height": 853
        },
        "id": "g7Lp0PjnmNXK",
        "outputId": "281ce97a-9251-4897-ecdd-c4c3ab1825f0"
      },
      "outputs": [
        {
          "output_type": "display_data",
          "data": {
            "text/plain": [
              "<Figure size 1000x1000 with 12 Axes>"
            ],
            "image/png": "[encoded data removed]"
          },
          "metadata": {}
        }
      ],
      "source": [
        "fig, axes = plt.subplots(nrows=3, ncols=4, figsize=(10,10))\n",
        "x = np.linspace(start=-10, stop=10, num=10*83)\n",
        "for i in range(12):\n",
        "    row = i//4\n",
        "    col = i%4\n",
        "    ax = axes[row, col]\n",
        "    ax.scatter(x, x**i)\n",
        "    ax.set_title(f'Plot of x^{i}')\n",
        "plt.show()"
      ]
    },
    {
      "cell_type": "markdown",
      "metadata": {
        "collapsed": true,
        "id": "DTT20wr-mNXK"
      },
      "source": [
        "## Summary\n",
        "\n",
        "Lambda functions can be a convenient way to write \"throw away\" functions that you want to declare inline. In the next lesson we'll give you some practice with creating them!"
      ]
    }
  ],
  "metadata": {
    "kernelspec": {
      "display_name": "Python 3.8.5 ('learn-env')",
      "language": "python",
      "name": "python3"
    },
    "language_info": {
      "codemirror_mode": {
        "name": "ipython",
        "version": 3
      },
      "file_extension": ".py",
      "mimetype": "text/x-python",
      "name": "python",
      "nbconvert_exporter": "python",
      "pygments_lexer": "ipython3",
      "version": "3.8.5"
    },
    "vscode": {
      "interpreter": {
        "hash": "7525ddc99344d304bee386e4294f627a69ef3ddf90a93199e89e426185c49e1b"
      }
    },
    "colab": {
      "provenance": []
    }
  },
  "nbformat": 4,
  "nbformat_minor": 0
}