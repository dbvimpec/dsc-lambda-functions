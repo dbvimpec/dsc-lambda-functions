{
 "cells": [
  {
   "cell_type": "code",
   "execution_count": 63,
   "metadata": {},
   "outputs": [],
   "source": [
    "import requests\n",
    "import pandas as pd\n",
    "import matplotlib.pyplot as plt\n",
    "%matplotlib inline"
   ]
  },
  {
   "cell_type": "code",
   "execution_count": 48,
   "metadata": {},
   "outputs": [
    {
     "data": {
      "text/plain": [
       "200"
      ]
     },
     "execution_count": 48,
     "metadata": {},
     "output_type": "execute_result"
    }
   ],
   "source": [
    "user_agent = {\"User-Agent\": \"cheffreyh@gmail.com\"}\n",
    "lat = \"33.564331790366566\"\n",
    "long = \"-83.96995153125057\"\n",
    "url = f\"https://api.weather.gov/points/{lat},{long}\"\n",
    "response = requests.get(url, headers=user_agent)\n",
    "data = response.json()\n",
    "response.status_code"
   ]
  },
  {
   "cell_type": "code",
   "execution_count": 49,
   "metadata": {},
   "outputs": [
    {
     "data": {
      "text/plain": [
       "dict_keys(['@context', 'id', 'type', 'geometry', 'properties'])"
      ]
     },
     "execution_count": 49,
     "metadata": {},
     "output_type": "execute_result"
    }
   ],
   "source": [
    "data.keys()"
   ]
  },
  {
   "cell_type": "code",
   "execution_count": 39,
   "metadata": {},
   "outputs": [
    {
     "data": {
      "text/plain": [
       "{'@id': 'https://api.weather.gov/points/33.5643,-83.97',\n",
       " '@type': 'wx:Point',\n",
       " 'cwa': 'FFC',\n",
       " 'forecastOffice': 'https://api.weather.gov/offices/FFC',\n",
       " 'gridId': 'FFC',\n",
       " 'gridX': 66,\n",
       " 'gridY': 79,\n",
       " 'forecast': 'https://api.weather.gov/gridpoints/FFC/66,79/forecast',\n",
       " 'forecastHourly': 'https://api.weather.gov/gridpoints/FFC/66,79/forecast/hourly',\n",
       " 'forecastGridData': 'https://api.weather.gov/gridpoints/FFC/66,79',\n",
       " 'observationStations': 'https://api.weather.gov/gridpoints/FFC/66,79/stations',\n",
       " 'relativeLocation': {'type': 'Feature',\n",
       "  'geometry': {'type': 'Point', 'coordinates': [-83.8947869, 33.573706]},\n",
       "  'properties': {'city': 'Porterdale',\n",
       "   'state': 'GA',\n",
       "   'distance': {'unitCode': 'wmoUnit:m', 'value': 7046.5477979454},\n",
       "   'bearing': {'unitCode': 'wmoUnit:degree_(angle)', 'value': 261}}},\n",
       " 'forecastZone': 'https://api.weather.gov/zones/forecast/GAZ048',\n",
       " 'county': 'https://api.weather.gov/zones/county/GAC217',\n",
       " 'fireWeatherZone': 'https://api.weather.gov/zones/fire/GAZ048',\n",
       " 'timeZone': 'America/New_York',\n",
       " 'radarStation': 'KFFC'}"
      ]
     },
     "execution_count": 39,
     "metadata": {},
     "output_type": "execute_result"
    }
   ],
   "source": [
    "data['properties']"
   ]
  },
  {
   "cell_type": "code",
   "execution_count": 50,
   "metadata": {},
   "outputs": [],
   "source": [
    "properties = data['properties'].keys()"
   ]
  },
  {
   "cell_type": "code",
   "execution_count": 51,
   "metadata": {},
   "outputs": [
    {
     "data": {
      "text/plain": [
       "dict_keys(['@id', '@type', 'cwa', 'forecastOffice', 'gridId', 'gridX', 'gridY', 'forecast', 'forecastHourly', 'forecastGridData', 'observationStations', 'relativeLocation', 'forecastZone', 'county', 'fireWeatherZone', 'timeZone', 'radarStation'])"
      ]
     },
     "execution_count": 51,
     "metadata": {},
     "output_type": "execute_result"
    }
   ],
   "source": [
    "properties"
   ]
  },
  {
   "cell_type": "code",
   "execution_count": 42,
   "metadata": {},
   "outputs": [
    {
     "name": "stdout",
     "output_type": "stream",
     "text": [
      "dict_keys(['correlationId', 'title', 'type', 'status', 'detail', 'instance'])\n"
     ]
    }
   ],
   "source": [
    "forecast_hourly = data['properties']['forecastHourly']\n",
    "response = requests.get(forecast_hourly, headers=user_agent)\n",
    "hourly = response.json()\n",
    "print(hourly.keys())"
   ]
  },
  {
   "cell_type": "code",
   "execution_count": 52,
   "metadata": {},
   "outputs": [
    {
     "name": "stdout",
     "output_type": "stream",
     "text": [
      "dict_keys(['@context', 'type', 'geometry', 'properties'])\n"
     ]
    }
   ],
   "source": [
    "forecast = data['properties']['forecast']\n",
    "response = requests.get(forecast, headers=user_agent)\n",
    "forecast = response.json()\n",
    "print(forecast.keys())"
   ]
  },
  {
   "cell_type": "code",
   "execution_count": 53,
   "metadata": {},
   "outputs": [
    {
     "name": "stdout",
     "output_type": "stream",
     "text": [
      "<class 'list'>\n",
      "<class 'str'>\n",
      "<class 'dict'>\n",
      "<class 'dict'>\n"
     ]
    }
   ],
   "source": [
    "for i in forecast.keys():\n",
    "    print(type(forecast[i]))"
   ]
  },
  {
   "cell_type": "code",
   "execution_count": 56,
   "metadata": {},
   "outputs": [
    {
     "data": {
      "text/plain": [
       "dict_keys(['updated', 'units', 'forecastGenerator', 'generatedAt', 'updateTime', 'validTimes', 'elevation', 'periods'])"
      ]
     },
     "execution_count": 56,
     "metadata": {},
     "output_type": "execute_result"
    }
   ],
   "source": [
    "forecast['properties'].keys()"
   ]
  },
  {
   "cell_type": "code",
   "execution_count": 57,
   "metadata": {},
   "outputs": [],
   "source": [
    "\n",
    "df = pd.DataFrame(forecast['properties']['periods'])\n"
   ]
  },
  {
   "cell_type": "code",
   "execution_count": 60,
   "metadata": {},
   "outputs": [
    {
     "data": {
      "text/html": [
       "<div>\n",
       "<style scoped>\n",
       "    .dataframe tbody tr th:only-of-type {\n",
       "        vertical-align: middle;\n",
       "    }\n",
       "\n",
       "    .dataframe tbody tr th {\n",
       "        vertical-align: top;\n",
       "    }\n",
       "\n",
       "    .dataframe thead th {\n",
       "        text-align: right;\n",
       "    }\n",
       "</style>\n",
       "<table border=\"1\" class=\"dataframe\">\n",
       "  <thead>\n",
       "    <tr style=\"text-align: right;\">\n",
       "      <th></th>\n",
       "      <th>number</th>\n",
       "      <th>name</th>\n",
       "      <th>startTime</th>\n",
       "      <th>endTime</th>\n",
       "      <th>isDaytime</th>\n",
       "      <th>temperature</th>\n",
       "      <th>temperatureUnit</th>\n",
       "      <th>temperatureTrend</th>\n",
       "      <th>windSpeed</th>\n",
       "      <th>windDirection</th>\n",
       "      <th>icon</th>\n",
       "      <th>shortForecast</th>\n",
       "      <th>detailedForecast</th>\n",
       "    </tr>\n",
       "  </thead>\n",
       "  <tbody>\n",
       "    <tr>\n",
       "      <th>0</th>\n",
       "      <td>1</td>\n",
       "      <td>This Afternoon</td>\n",
       "      <td>2022-01-14T17:00:00-05:00</td>\n",
       "      <td>2022-01-14T18:00:00-05:00</td>\n",
       "      <td>True</td>\n",
       "      <td>55</td>\n",
       "      <td>F</td>\n",
       "      <td>None</td>\n",
       "      <td>0 mph</td>\n",
       "      <td>NW</td>\n",
       "      <td>https://api.weather.gov/icons/land/day/few?siz...</td>\n",
       "      <td>Sunny</td>\n",
       "      <td>Sunny, with a high near 55. Northwest wind aro...</td>\n",
       "    </tr>\n",
       "    <tr>\n",
       "      <th>1</th>\n",
       "      <td>2</td>\n",
       "      <td>Tonight</td>\n",
       "      <td>2022-01-14T18:00:00-05:00</td>\n",
       "      <td>2022-01-15T06:00:00-05:00</td>\n",
       "      <td>False</td>\n",
       "      <td>35</td>\n",
       "      <td>F</td>\n",
       "      <td>None</td>\n",
       "      <td>0 mph</td>\n",
       "      <td>N</td>\n",
       "      <td>https://api.weather.gov/icons/land/night/bkn?s...</td>\n",
       "      <td>Mostly Cloudy</td>\n",
       "      <td>Mostly cloudy, with a low around 35. North win...</td>\n",
       "    </tr>\n",
       "    <tr>\n",
       "      <th>2</th>\n",
       "      <td>3</td>\n",
       "      <td>Saturday</td>\n",
       "      <td>2022-01-15T06:00:00-05:00</td>\n",
       "      <td>2022-01-15T18:00:00-05:00</td>\n",
       "      <td>True</td>\n",
       "      <td>51</td>\n",
       "      <td>F</td>\n",
       "      <td>None</td>\n",
       "      <td>0 to 10 mph</td>\n",
       "      <td>E</td>\n",
       "      <td>https://api.weather.gov/icons/land/day/bkn/rai...</td>\n",
       "      <td>Mostly Cloudy then Slight Chance Light Rain</td>\n",
       "      <td>A slight chance of rain after 4pm. Mostly clou...</td>\n",
       "    </tr>\n",
       "    <tr>\n",
       "      <th>3</th>\n",
       "      <td>4</td>\n",
       "      <td>Saturday Night</td>\n",
       "      <td>2022-01-15T18:00:00-05:00</td>\n",
       "      <td>2022-01-16T06:00:00-05:00</td>\n",
       "      <td>False</td>\n",
       "      <td>32</td>\n",
       "      <td>F</td>\n",
       "      <td>None</td>\n",
       "      <td>10 to 20 mph</td>\n",
       "      <td>NE</td>\n",
       "      <td>https://api.weather.gov/icons/land/night/rain_...</td>\n",
       "      <td>Rain Showers</td>\n",
       "      <td>A chance of rain before 7pm, then rain showers...</td>\n",
       "    </tr>\n",
       "    <tr>\n",
       "      <th>4</th>\n",
       "      <td>5</td>\n",
       "      <td>Sunday</td>\n",
       "      <td>2022-01-16T06:00:00-05:00</td>\n",
       "      <td>2022-01-16T18:00:00-05:00</td>\n",
       "      <td>True</td>\n",
       "      <td>34</td>\n",
       "      <td>F</td>\n",
       "      <td>None</td>\n",
       "      <td>5 to 20 mph</td>\n",
       "      <td>SE</td>\n",
       "      <td>https://api.weather.gov/icons/land/day/snow,90...</td>\n",
       "      <td>Rain And Snow then Rain And Snow Showers</td>\n",
       "      <td>Rain and snow before 10am, then rain and snow ...</td>\n",
       "    </tr>\n",
       "  </tbody>\n",
       "</table>\n",
       "</div>"
      ],
      "text/plain": [
       "   number            name                  startTime  \\\n",
       "0       1  This Afternoon  2022-01-14T17:00:00-05:00   \n",
       "1       2         Tonight  2022-01-14T18:00:00-05:00   \n",
       "2       3        Saturday  2022-01-15T06:00:00-05:00   \n",
       "3       4  Saturday Night  2022-01-15T18:00:00-05:00   \n",
       "4       5          Sunday  2022-01-16T06:00:00-05:00   \n",
       "\n",
       "                     endTime  isDaytime  temperature temperatureUnit  \\\n",
       "0  2022-01-14T18:00:00-05:00       True           55               F   \n",
       "1  2022-01-15T06:00:00-05:00      False           35               F   \n",
       "2  2022-01-15T18:00:00-05:00       True           51               F   \n",
       "3  2022-01-16T06:00:00-05:00      False           32               F   \n",
       "4  2022-01-16T18:00:00-05:00       True           34               F   \n",
       "\n",
       "  temperatureTrend     windSpeed windDirection  \\\n",
       "0             None         0 mph            NW   \n",
       "1             None         0 mph             N   \n",
       "2             None   0 to 10 mph             E   \n",
       "3             None  10 to 20 mph            NE   \n",
       "4             None   5 to 20 mph            SE   \n",
       "\n",
       "                                                icon  \\\n",
       "0  https://api.weather.gov/icons/land/day/few?siz...   \n",
       "1  https://api.weather.gov/icons/land/night/bkn?s...   \n",
       "2  https://api.weather.gov/icons/land/day/bkn/rai...   \n",
       "3  https://api.weather.gov/icons/land/night/rain_...   \n",
       "4  https://api.weather.gov/icons/land/day/snow,90...   \n",
       "\n",
       "                                 shortForecast  \\\n",
       "0                                        Sunny   \n",
       "1                                Mostly Cloudy   \n",
       "2  Mostly Cloudy then Slight Chance Light Rain   \n",
       "3                                 Rain Showers   \n",
       "4     Rain And Snow then Rain And Snow Showers   \n",
       "\n",
       "                                    detailedForecast  \n",
       "0  Sunny, with a high near 55. Northwest wind aro...  \n",
       "1  Mostly cloudy, with a low around 35. North win...  \n",
       "2  A slight chance of rain after 4pm. Mostly clou...  \n",
       "3  A chance of rain before 7pm, then rain showers...  \n",
       "4  Rain and snow before 10am, then rain and snow ...  "
      ]
     },
     "execution_count": 60,
     "metadata": {},
     "output_type": "execute_result"
    }
   ],
   "source": [
    "df.head()"
   ]
  },
  {
   "cell_type": "code",
   "execution_count": 61,
   "metadata": {},
   "outputs": [
    {
     "data": {
      "text/html": [
       "<div>\n",
       "<style scoped>\n",
       "    .dataframe tbody tr th:only-of-type {\n",
       "        vertical-align: middle;\n",
       "    }\n",
       "\n",
       "    .dataframe tbody tr th {\n",
       "        vertical-align: top;\n",
       "    }\n",
       "\n",
       "    .dataframe thead th {\n",
       "        text-align: right;\n",
       "    }\n",
       "</style>\n",
       "<table border=\"1\" class=\"dataframe\">\n",
       "  <thead>\n",
       "    <tr style=\"text-align: right;\">\n",
       "      <th></th>\n",
       "      <th>number</th>\n",
       "      <th>name</th>\n",
       "      <th>endTime</th>\n",
       "      <th>isDaytime</th>\n",
       "      <th>temperature</th>\n",
       "      <th>temperatureUnit</th>\n",
       "      <th>temperatureTrend</th>\n",
       "      <th>windSpeed</th>\n",
       "      <th>windDirection</th>\n",
       "      <th>icon</th>\n",
       "      <th>shortForecast</th>\n",
       "      <th>detailedForecast</th>\n",
       "    </tr>\n",
       "    <tr>\n",
       "      <th>startTime</th>\n",
       "      <th></th>\n",
       "      <th></th>\n",
       "      <th></th>\n",
       "      <th></th>\n",
       "      <th></th>\n",
       "      <th></th>\n",
       "      <th></th>\n",
       "      <th></th>\n",
       "      <th></th>\n",
       "      <th></th>\n",
       "      <th></th>\n",
       "      <th></th>\n",
       "    </tr>\n",
       "  </thead>\n",
       "  <tbody>\n",
       "    <tr>\n",
       "      <th>2022-01-14T17:00:00-05:00</th>\n",
       "      <td>1</td>\n",
       "      <td>This Afternoon</td>\n",
       "      <td>2022-01-14T18:00:00-05:00</td>\n",
       "      <td>True</td>\n",
       "      <td>55</td>\n",
       "      <td>F</td>\n",
       "      <td>None</td>\n",
       "      <td>0 mph</td>\n",
       "      <td>NW</td>\n",
       "      <td>https://api.weather.gov/icons/land/day/few?siz...</td>\n",
       "      <td>Sunny</td>\n",
       "      <td>Sunny, with a high near 55. Northwest wind aro...</td>\n",
       "    </tr>\n",
       "    <tr>\n",
       "      <th>2022-01-14T18:00:00-05:00</th>\n",
       "      <td>2</td>\n",
       "      <td>Tonight</td>\n",
       "      <td>2022-01-15T06:00:00-05:00</td>\n",
       "      <td>False</td>\n",
       "      <td>35</td>\n",
       "      <td>F</td>\n",
       "      <td>None</td>\n",
       "      <td>0 mph</td>\n",
       "      <td>N</td>\n",
       "      <td>https://api.weather.gov/icons/land/night/bkn?s...</td>\n",
       "      <td>Mostly Cloudy</td>\n",
       "      <td>Mostly cloudy, with a low around 35. North win...</td>\n",
       "    </tr>\n",
       "    <tr>\n",
       "      <th>2022-01-15T06:00:00-05:00</th>\n",
       "      <td>3</td>\n",
       "      <td>Saturday</td>\n",
       "      <td>2022-01-15T18:00:00-05:00</td>\n",
       "      <td>True</td>\n",
       "      <td>51</td>\n",
       "      <td>F</td>\n",
       "      <td>None</td>\n",
       "      <td>0 to 10 mph</td>\n",
       "      <td>E</td>\n",
       "      <td>https://api.weather.gov/icons/land/day/bkn/rai...</td>\n",
       "      <td>Mostly Cloudy then Slight Chance Light Rain</td>\n",
       "      <td>A slight chance of rain after 4pm. Mostly clou...</td>\n",
       "    </tr>\n",
       "    <tr>\n",
       "      <th>2022-01-15T18:00:00-05:00</th>\n",
       "      <td>4</td>\n",
       "      <td>Saturday Night</td>\n",
       "      <td>2022-01-16T06:00:00-05:00</td>\n",
       "      <td>False</td>\n",
       "      <td>32</td>\n",
       "      <td>F</td>\n",
       "      <td>None</td>\n",
       "      <td>10 to 20 mph</td>\n",
       "      <td>NE</td>\n",
       "      <td>https://api.weather.gov/icons/land/night/rain_...</td>\n",
       "      <td>Rain Showers</td>\n",
       "      <td>A chance of rain before 7pm, then rain showers...</td>\n",
       "    </tr>\n",
       "    <tr>\n",
       "      <th>2022-01-16T06:00:00-05:00</th>\n",
       "      <td>5</td>\n",
       "      <td>Sunday</td>\n",
       "      <td>2022-01-16T18:00:00-05:00</td>\n",
       "      <td>True</td>\n",
       "      <td>34</td>\n",
       "      <td>F</td>\n",
       "      <td>None</td>\n",
       "      <td>5 to 20 mph</td>\n",
       "      <td>SE</td>\n",
       "      <td>https://api.weather.gov/icons/land/day/snow,90...</td>\n",
       "      <td>Rain And Snow then Rain And Snow Showers</td>\n",
       "      <td>Rain and snow before 10am, then rain and snow ...</td>\n",
       "    </tr>\n",
       "  </tbody>\n",
       "</table>\n",
       "</div>"
      ],
      "text/plain": [
       "                           number            name                    endTime  \\\n",
       "startTime                                                                      \n",
       "2022-01-14T17:00:00-05:00       1  This Afternoon  2022-01-14T18:00:00-05:00   \n",
       "2022-01-14T18:00:00-05:00       2         Tonight  2022-01-15T06:00:00-05:00   \n",
       "2022-01-15T06:00:00-05:00       3        Saturday  2022-01-15T18:00:00-05:00   \n",
       "2022-01-15T18:00:00-05:00       4  Saturday Night  2022-01-16T06:00:00-05:00   \n",
       "2022-01-16T06:00:00-05:00       5          Sunday  2022-01-16T18:00:00-05:00   \n",
       "\n",
       "                           isDaytime  temperature temperatureUnit  \\\n",
       "startTime                                                           \n",
       "2022-01-14T17:00:00-05:00       True           55               F   \n",
       "2022-01-14T18:00:00-05:00      False           35               F   \n",
       "2022-01-15T06:00:00-05:00       True           51               F   \n",
       "2022-01-15T18:00:00-05:00      False           32               F   \n",
       "2022-01-16T06:00:00-05:00       True           34               F   \n",
       "\n",
       "                          temperatureTrend     windSpeed windDirection  \\\n",
       "startTime                                                                \n",
       "2022-01-14T17:00:00-05:00             None         0 mph            NW   \n",
       "2022-01-14T18:00:00-05:00             None         0 mph             N   \n",
       "2022-01-15T06:00:00-05:00             None   0 to 10 mph             E   \n",
       "2022-01-15T18:00:00-05:00             None  10 to 20 mph            NE   \n",
       "2022-01-16T06:00:00-05:00             None   5 to 20 mph            SE   \n",
       "\n",
       "                                                                        icon  \\\n",
       "startTime                                                                      \n",
       "2022-01-14T17:00:00-05:00  https://api.weather.gov/icons/land/day/few?siz...   \n",
       "2022-01-14T18:00:00-05:00  https://api.weather.gov/icons/land/night/bkn?s...   \n",
       "2022-01-15T06:00:00-05:00  https://api.weather.gov/icons/land/day/bkn/rai...   \n",
       "2022-01-15T18:00:00-05:00  https://api.weather.gov/icons/land/night/rain_...   \n",
       "2022-01-16T06:00:00-05:00  https://api.weather.gov/icons/land/day/snow,90...   \n",
       "\n",
       "                                                         shortForecast  \\\n",
       "startTime                                                                \n",
       "2022-01-14T17:00:00-05:00                                        Sunny   \n",
       "2022-01-14T18:00:00-05:00                                Mostly Cloudy   \n",
       "2022-01-15T06:00:00-05:00  Mostly Cloudy then Slight Chance Light Rain   \n",
       "2022-01-15T18:00:00-05:00                                 Rain Showers   \n",
       "2022-01-16T06:00:00-05:00     Rain And Snow then Rain And Snow Showers   \n",
       "\n",
       "                                                            detailedForecast  \n",
       "startTime                                                                     \n",
       "2022-01-14T17:00:00-05:00  Sunny, with a high near 55. Northwest wind aro...  \n",
       "2022-01-14T18:00:00-05:00  Mostly cloudy, with a low around 35. North win...  \n",
       "2022-01-15T06:00:00-05:00  A slight chance of rain after 4pm. Mostly clou...  \n",
       "2022-01-15T18:00:00-05:00  A chance of rain before 7pm, then rain showers...  \n",
       "2022-01-16T06:00:00-05:00  Rain and snow before 10am, then rain and snow ...  "
      ]
     },
     "execution_count": 61,
     "metadata": {},
     "output_type": "execute_result"
    }
   ],
   "source": [
    "df.set_index('startTime', inplace=True)\n",
    "df.head()"
   ]
  },
  {
   "cell_type": "code",
   "execution_count": 64,
   "metadata": {},
   "outputs": [
    {
     "data": {
      "text/plain": [
       "<Figure size 1296x504 with 0 Axes>"
      ]
     },
     "execution_count": 64,
     "metadata": {},
     "output_type": "execute_result"
    },
    {
     "data": {
      "text/plain": [
       "<Figure size 1296x504 with 0 Axes>"
      ]
     },
     "metadata": {},
     "output_type": "display_data"
    }
   ],
   "source": [
    "plt.figure(figsize=(18,7))\n",
    "\n"
   ]
  },
  {
   "cell_type": "code",
   "execution_count": null,
   "metadata": {},
   "outputs": [],
   "source": []
  }
 ],
 "metadata": {
  "interpreter": {
   "hash": "7525ddc99344d304bee386e4294f627a69ef3ddf90a93199e89e426185c49e1b"
  },
  "kernelspec": {
   "display_name": "Python 3.8.5 64-bit ('learn-env': conda)",
   "language": "python",
   "name": "python3"
  },
  "language_info": {
   "codemirror_mode": {
    "name": "ipython",
    "version": 3
   },
   "file_extension": ".py",
   "mimetype": "text/x-python",
   "name": "python",
   "nbconvert_exporter": "python",
   "pygments_lexer": "ipython3",
   "version": "3.8.5"
  },
  "orig_nbformat": 4
 },
 "nbformat": 4,
 "nbformat_minor": 2
}
